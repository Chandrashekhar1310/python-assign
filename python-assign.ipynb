{
 "cells": [
  {
   "cell_type": "markdown",
   "id": "ffa1ea24-75c3-4e9c-be1f-81075aaa4c45",
   "metadata": {},
   "source": [
    "1. Who developed Python Programming Language? "
   ]
  },
  {
   "cell_type": "markdown",
   "id": "3d11a0e3-69f8-45b7-b9b9-7e638988d1cd",
   "metadata": {},
   "source": [
    "Python programming language was created by Guido van Rossum in the late 1980s."
   ]
  },
  {
   "cell_type": "markdown",
   "id": "7950f2f4-6088-4ae8-9e3f-4aff59afc920",
   "metadata": {},
   "source": [
    "2. Which type of Programming does Python support? "
   ]
  },
  {
   "cell_type": "markdown",
   "id": "a49f1eb7-01ed-426c-9c7e-6523a6fd5be2",
   "metadata": {},
   "source": [
    "python support following type of programming.\n",
    "1. Procedural Programming\n",
    "2. Object-Oriented Programming\n",
    "3. Functional Programming\n",
    "4. Imperative Programming\n",
    "5. Aspect-oriented programming"
   ]
  },
  {
   "cell_type": "markdown",
   "id": "18617167-94bb-4774-b396-f50df8f34e20",
   "metadata": {},
   "source": [
    "3. Is Python case sensitive when dealing with identifiers? "
   ]
  },
  {
   "cell_type": "markdown",
   "id": "74815a86-6e08-4ed3-9716-60fdf224f87a",
   "metadata": {},
   "source": [
    "yes"
   ]
  },
  {
   "cell_type": "markdown",
   "id": "7227cdf0-d1e9-4150-b357-678d9b5e5f1b",
   "metadata": {},
   "source": [
    "4. What is the correct extension of the Python file? "
   ]
  },
  {
   "cell_type": "markdown",
   "id": "569c9429-dfa4-4295-83f2-19a43be989cf",
   "metadata": {},
   "source": [
    ".py"
   ]
  },
  {
   "cell_type": "markdown",
   "id": "6ebf3969-24bd-4857-ac2c-481ade5aa3e0",
   "metadata": {},
   "source": [
    "5. Is Python code compiled or interpreted? "
   ]
  },
  {
   "cell_type": "markdown",
   "id": "c843a914-ce81-4333-8920-ea5992c4857f",
   "metadata": {},
   "source": [
    "Python code is considered to be interpreted"
   ]
  },
  {
   "cell_type": "markdown",
   "id": "e743ac7f-b293-412a-a76d-b8a4c97241b6",
   "metadata": {},
   "source": [
    "6. Name a few blocks of code used to define in Python language? "
   ]
  },
  {
   "cell_type": "markdown",
   "id": "69d83d79-1a81-44aa-8226-52999db586a6",
   "metadata": {},
   "source": [
    "In Python, code blocks are defined by their indentation level.\n",
    "The following are some of the common blocks of code used in Python:\n",
    "1.Function Blocks\n",
    "2.If-else Blocks\n",
    "3.For and While Blocks\n",
    "4.Class Blocks"
   ]
  },
  {
   "cell_type": "markdown",
   "id": "0c822e81-79c1-4eff-9425-e7e2da4c4582",
   "metadata": {},
   "source": [
    "7. State a character used to give single-line comments in Python? "
   ]
  },
  {
   "cell_type": "markdown",
   "id": "1671a799-5b72-42ca-b63b-74bcc353b107",
   "metadata": {},
   "source": [
    "'#' is used for  single-line comments in Python"
   ]
  },
  {
   "cell_type": "markdown",
   "id": "37ee10c1-8b0f-4c30-8fdb-3700d9001b8e",
   "metadata": {},
   "source": [
    "8. Mention functions which can help us to find the version of python that we are currently working on? "
   ]
  },
  {
   "cell_type": "markdown",
   "id": "486b4ab0-2281-429b-9ef0-4cb19c3a59f4",
   "metadata": {},
   "source": [
    "There are several ways to find the version of Python that you are currently using. Here are three methods:\n",
    "1.Using the sys module\n",
    "2.Using the platform module\n",
    "3.Using the command line"
   ]
  },
  {
   "cell_type": "markdown",
   "id": "6854fef9-551d-48a6-98a6-44cfca3981f4",
   "metadata": {},
   "source": [
    "9. Python supports the creation of anonymous functions at runtime, using a construct called"
   ]
  },
  {
   "cell_type": "markdown",
   "id": "a58baaab-5533-4573-9bd2-13dab114d04b",
   "metadata": {},
   "source": [
    "Lambda functions"
   ]
  },
  {
   "cell_type": "markdown",
   "id": "3273d1cf-1c00-4cf7-80ef-f4f7637731a9",
   "metadata": {},
   "source": [
    "10. What does pip stand for python? "
   ]
  },
  {
   "cell_type": "markdown",
   "id": "6504f900-06d8-4d02-a08c-00a13b84ea5c",
   "metadata": {},
   "source": [
    "pip stands for \"Pip Installs Packages\"\n",
    "pip is used to install, upgrade, and manage Python packages and their dependencies. "
   ]
  },
  {
   "cell_type": "markdown",
   "id": "5d59f5da-e72d-48a5-b430-ac4518d1da85",
   "metadata": {},
   "source": [
    "11. Mention a few built-in functions in python? "
   ]
  },
  {
   "cell_type": "markdown",
   "id": "4595c7bf-ad82-44ff-9ba4-fbeca3e7b335",
   "metadata": {},
   "source": [
    "Python comes with a large number of built-in functions that can be used to perform a wide range of operations. Some of the functions are print(),len(),type(),input() etc\n"
   ]
  },
  {
   "cell_type": "markdown",
   "id": "1811e080-f0e7-4360-ac84-86499b670697",
   "metadata": {},
   "source": [
    "12. What is the maximum possible length of an identifier in Python? "
   ]
  },
  {
   "cell_type": "markdown",
   "id": "45f82a7a-b02b-4e5c-91d7-a8e3029fe4be",
   "metadata": {},
   "source": [
    "In Python, the maximum possible length of an identifier is not defined, and it can be of any length."
   ]
  },
  {
   "cell_type": "markdown",
   "id": "39b8edd4-1be8-4c21-aa0e-5da5ed48b59e",
   "metadata": {},
   "source": [
    "13. What are the benefits of using Python? "
   ]
  },
  {
   "cell_type": "markdown",
   "id": "fc33a9c1-bc24-4087-992a-f33bf188cfd9",
   "metadata": {},
   "source": [
    "There are many benefits of using Python, some of which include:\n",
    "Simple and Easy to Learn,Large and Active Community,Versatile,Extensive Standard Library,etc"
   ]
  },
  {
   "cell_type": "markdown",
   "id": "6b357ea3-84cf-4866-834c-b7db8416f7f6",
   "metadata": {},
   "source": [
    "14. How is memory managed in Python? "
   ]
  },
  {
   "cell_type": "markdown",
   "id": "925876b1-37c5-44e7-a062-3f92984d0873",
   "metadata": {},
   "source": [
    "In Python, memory management is handled automatically by the interpreter, using a technique called garbage collection. The garbage collector automatically deallocates memory that is no longer in use, which makes it easier for developers to write code without having to worry about managing memory manually."
   ]
  },
  {
   "cell_type": "markdown",
   "id": "5f5f8372-3c35-4c6b-8e41-f11f650edb32",
   "metadata": {},
   "source": [
    "15. How to install Python on Windows and set path variables?"
   ]
  },
  {
   "cell_type": "markdown",
   "id": "355217a9-68da-4be7-a22d-7c97092094ea",
   "metadata": {},
   "source": [
    "# To install Python on Windows and set path variables:\n",
    "\n",
    "1.Download the latest version of Python from the official website.\n",
    "2.Run the installer and follow the prompts to install Python.\n",
    "Open the Windows Control Panel and go to System and Security -> System -> Advanced system settings.\n",
    "Click on the \"Environment Variables\" button.\n",
    "Under \"System Variables\", select \"Path\" and click \"Edit\".\n",
    "Add the path to the Python executable (e.g. C:\\Python38) to the list of paths, separated by semicolons.\n",
    "Click \"OK\" to save the changes and close all windows.\n",
    "Open a new command prompt and type \"python\" to verify that Python has been installed correctly and that the path variables have been set up correctly."
   ]
  }
 ],
 "metadata": {
  "kernelspec": {
   "display_name": "Python 3 (ipykernel)",
   "language": "python",
   "name": "python3"
  },
  "language_info": {
   "codemirror_mode": {
    "name": "ipython",
    "version": 3
   },
   "file_extension": ".py",
   "mimetype": "text/x-python",
   "name": "python",
   "nbconvert_exporter": "python",
   "pygments_lexer": "ipython3",
   "version": "3.10.8"
  }
 },
 "nbformat": 4,
 "nbformat_minor": 5
}
